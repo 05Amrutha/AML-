{
 "cells": [
  {
   "cell_type": "code",
   "execution_count": 10,
   "id": "2ed1c3f3",
   "metadata": {},
   "outputs": [
    {
     "name": "stdout",
     "output_type": "stream",
     "text": [
      "Collecting torch-sparseNote: you may need to restart the kernel to use updated packages.\n",
      "\n",
      "  Downloading torch_sparse-0.6.18.tar.gz (209 kB)\n",
      "     ---------------------------------------- 0.0/210.0 kB ? eta -:--:--\n",
      "     ------------- ------------------------- 71.7/210.0 kB 2.0 MB/s eta 0:00:01\n",
      "     -------------------------------------- 210.0/210.0 kB 3.2 MB/s eta 0:00:00\n",
      "  Preparing metadata (setup.py): started\n",
      "  Preparing metadata (setup.py): finished with status 'done'\n",
      "Requirement already satisfied: scipy in c:\\users\\05amr\\anaconda\\lib\\site-packages (from torch-sparse) (1.10.1)\n",
      "Requirement already satisfied: numpy<1.27.0,>=1.19.5 in c:\\users\\05amr\\anaconda\\lib\\site-packages (from scipy->torch-sparse) (1.24.3)\n",
      "Building wheels for collected packages: torch-sparse\n",
      "  Building wheel for torch-sparse (setup.py): started\n",
      "  Building wheel for torch-sparse (setup.py): still running...\n",
      "  Building wheel for torch-sparse (setup.py): still running...\n",
      "  Building wheel for torch-sparse (setup.py): still running...\n",
      "  Building wheel for torch-sparse (setup.py): still running...\n",
      "  Building wheel for torch-sparse (setup.py): still running...\n",
      "  Building wheel for torch-sparse (setup.py): still running...\n",
      "  Building wheel for torch-sparse (setup.py): still running...\n",
      "  Building wheel for torch-sparse (setup.py): finished with status 'done'\n",
      "  Created wheel for torch-sparse: filename=torch_sparse-0.6.18-cp311-cp311-win_amd64.whl size=714168 sha256=7e1bc98711fded9ef8a0788259a63cab6a5225e0fe4213a36e1acdae8090a7ba\n",
      "  Stored in directory: c:\\users\\05amr\\appdata\\local\\pip\\cache\\wheels\\75\\e2\\1e\\299c596063839303657c211f587f05591891cc6cf126d94d21\n",
      "Successfully built torch-sparse\n",
      "Installing collected packages: torch-sparse\n",
      "Successfully installed torch-sparse-0.6.18\n"
     ]
    }
   ],
   "source": [
    "pip install torch-sparse"
   ]
  },
  {
   "cell_type": "code",
   "execution_count": 11,
   "id": "16ed8f18",
   "metadata": {},
   "outputs": [
    {
     "name": "stdout",
     "output_type": "stream",
     "text": [
      "Requirement already satisfied: torch-geometric[pyg-lib] in c:\\users\\05amr\\anaconda\\lib\\site-packages (2.4.0)Note: you may need to restart the kernel to use updated packages.\n",
      "\n",
      "Requirement already satisfied: tqdm in c:\\users\\05amr\\anaconda\\lib\\site-packages (from torch-geometric[pyg-lib]) (4.65.0)\n",
      "Requirement already satisfied: numpy in c:\\users\\05amr\\anaconda\\lib\\site-packages (from torch-geometric[pyg-lib]) (1.24.3)\n",
      "Requirement already satisfied: scipy in c:\\users\\05amr\\anaconda\\lib\\site-packages (from torch-geometric[pyg-lib]) (1.10.1)\n",
      "Requirement already satisfied: jinja2 in c:\\users\\05amr\\anaconda\\lib\\site-packages (from torch-geometric[pyg-lib]) (3.1.2)\n",
      "Requirement already satisfied: requests in c:\\users\\05amr\\anaconda\\lib\\site-packages (from torch-geometric[pyg-lib]) (2.31.0)\n",
      "Requirement already satisfied: pyparsing in c:\\users\\05amr\\anaconda\\lib\\site-packages (from torch-geometric[pyg-lib]) (3.0.9)\n",
      "Requirement already satisfied: scikit-learn in c:\\users\\05amr\\anaconda\\lib\\site-packages (from torch-geometric[pyg-lib]) (1.3.2)\n",
      "Requirement already satisfied: psutil>=5.8.0 in c:\\users\\05amr\\anaconda\\lib\\site-packages (from torch-geometric[pyg-lib]) (5.9.0)\n",
      "Requirement already satisfied: MarkupSafe>=2.0 in c:\\users\\05amr\\anaconda\\lib\\site-packages (from jinja2->torch-geometric[pyg-lib]) (2.1.1)\n",
      "Requirement already satisfied: charset-normalizer<4,>=2 in c:\\users\\05amr\\anaconda\\lib\\site-packages (from requests->torch-geometric[pyg-lib]) (2.0.4)\n",
      "Requirement already satisfied: idna<4,>=2.5 in c:\\users\\05amr\\anaconda\\lib\\site-packages (from requests->torch-geometric[pyg-lib]) (3.4)\n",
      "Requirement already satisfied: urllib3<3,>=1.21.1 in c:\\users\\05amr\\anaconda\\lib\\site-packages (from requests->torch-geometric[pyg-lib]) (1.26.16)\n",
      "Requirement already satisfied: certifi>=2017.4.17 in c:\\users\\05amr\\anaconda\\lib\\site-packages (from requests->torch-geometric[pyg-lib]) (2023.7.22)\n",
      "Requirement already satisfied: joblib>=1.1.1 in c:\\users\\05amr\\anaconda\\lib\\site-packages (from scikit-learn->torch-geometric[pyg-lib]) (1.2.0)\n",
      "Requirement already satisfied: threadpoolctl>=2.0.0 in c:\\users\\05amr\\anaconda\\lib\\site-packages (from scikit-learn->torch-geometric[pyg-lib]) (2.2.0)\n",
      "Requirement already satisfied: colorama in c:\\users\\05amr\\anaconda\\lib\\site-packages (from tqdm->torch-geometric[pyg-lib]) (0.4.6)\n"
     ]
    },
    {
     "name": "stderr",
     "output_type": "stream",
     "text": [
      "WARNING: torch-geometric 2.4.0 does not provide the extra 'pyg-lib'\n"
     ]
    }
   ],
   "source": [
    "pip install torch-geometric[pyg-lib]"
   ]
  },
  {
   "cell_type": "code",
   "execution_count": 18,
   "id": "06b5441f",
   "metadata": {},
   "outputs": [
    {
     "name": "stdout",
     "output_type": "stream",
     "text": [
      "Requirement already satisfied: torch-sparse in c:\\users\\05amr\\anaconda\\lib\\site-packages (0.6.18)\n",
      "Requirement already satisfied: scipy in c:\\users\\05amr\\anaconda\\lib\\site-packages (from torch-sparse) (1.10.1)\n",
      "Requirement already satisfied: numpy<1.27.0,>=1.19.5 in c:\\users\\05amr\\anaconda\\lib\\site-packages (from scipy->torch-sparse) (1.24.3)\n",
      "Note: you may need to restart the kernel to use updated packages.\n"
     ]
    }
   ],
   "source": [
    "pip install torch-sparse"
   ]
  },
  {
   "cell_type": "code",
   "execution_count": 14,
   "id": "e2fb44b5",
   "metadata": {},
   "outputs": [
    {
     "name": "stdout",
     "output_type": "stream",
     "text": [
      "Requirement already satisfied: torch in c:\\users\\05amr\\anaconda\\lib\\site-packages (2.1.1)\n",
      "Collecting torchvision\n",
      "  Obtaining dependency information for torchvision from https://files.pythonhosted.org/packages/13/24/23cdf7e7dc33e5c01588c315f8424d31afa9edb05a80168f3d44f7178ff7/torchvision-0.16.1-cp311-cp311-win_amd64.whl.metadata\n",
      "  Downloading torchvision-0.16.1-cp311-cp311-win_amd64.whl.metadata (6.6 kB)\n",
      "Collecting torchaudio\n",
      "  Obtaining dependency information for torchaudio from https://files.pythonhosted.org/packages/3e/c4/bfaa620bba2e53e7707295bcc07b65871a52efe84510340ad79ce6a69be0/torchaudio-2.1.1-cp311-cp311-win_amd64.whl.metadata\n",
      "  Downloading torchaudio-2.1.1-cp311-cp311-win_amd64.whl.metadata (6.4 kB)\n",
      "Requirement already satisfied: torch-geometric in c:\\users\\05amr\\anaconda\\lib\\site-packages (2.4.0)\n",
      "Requirement already satisfied: filelock in c:\\users\\05amr\\anaconda\\lib\\site-packages (from torch) (3.9.0)\n",
      "Requirement already satisfied: typing-extensions in c:\\users\\05amr\\anaconda\\lib\\site-packages (from torch) (4.7.1)\n",
      "Requirement already satisfied: sympy in c:\\users\\05amr\\anaconda\\lib\\site-packages (from torch) (1.11.1)\n",
      "Requirement already satisfied: networkx in c:\\users\\05amr\\anaconda\\lib\\site-packages (from torch) (3.1)\n",
      "Requirement already satisfied: jinja2 in c:\\users\\05amr\\anaconda\\lib\\site-packages (from torch) (3.1.2)\n",
      "Requirement already satisfied: fsspec in c:\\users\\05amr\\anaconda\\lib\\site-packages (from torch) (2023.3.0)\n",
      "Requirement already satisfied: numpy in c:\\users\\05amr\\anaconda\\lib\\site-packages (from torchvision) (1.24.3)\n",
      "Requirement already satisfied: requests in c:\\users\\05amr\\anaconda\\lib\\site-packages (from torchvision) (2.31.0)\n",
      "Requirement already satisfied: pillow!=8.3.*,>=5.3.0 in c:\\users\\05amr\\anaconda\\lib\\site-packages (from torchvision) (9.4.0)\n",
      "Requirement already satisfied: tqdm in c:\\users\\05amr\\anaconda\\lib\\site-packages (from torch-geometric) (4.65.0)\n",
      "Requirement already satisfied: scipy in c:\\users\\05amr\\anaconda\\lib\\site-packages (from torch-geometric) (1.10.1)\n",
      "Requirement already satisfied: pyparsing in c:\\users\\05amr\\anaconda\\lib\\site-packages (from torch-geometric) (3.0.9)\n",
      "Requirement already satisfied: scikit-learn in c:\\users\\05amr\\anaconda\\lib\\site-packages (from torch-geometric) (1.3.2)\n",
      "Requirement already satisfied: psutil>=5.8.0 in c:\\users\\05amr\\anaconda\\lib\\site-packages (from torch-geometric) (5.9.0)\n",
      "Requirement already satisfied: MarkupSafe>=2.0 in c:\\users\\05amr\\anaconda\\lib\\site-packages (from jinja2->torch) (2.1.1)\n",
      "Requirement already satisfied: charset-normalizer<4,>=2 in c:\\users\\05amr\\anaconda\\lib\\site-packages (from requests->torchvision) (2.0.4)\n",
      "Requirement already satisfied: idna<4,>=2.5 in c:\\users\\05amr\\anaconda\\lib\\site-packages (from requests->torchvision) (3.4)\n",
      "Requirement already satisfied: urllib3<3,>=1.21.1 in c:\\users\\05amr\\anaconda\\lib\\site-packages (from requests->torchvision) (1.26.16)\n",
      "Requirement already satisfied: certifi>=2017.4.17 in c:\\users\\05amr\\anaconda\\lib\\site-packages (from requests->torchvision) (2023.7.22)\n",
      "Requirement already satisfied: joblib>=1.1.1 in c:\\users\\05amr\\anaconda\\lib\\site-packages (from scikit-learn->torch-geometric) (1.2.0)\n",
      "Requirement already satisfied: threadpoolctl>=2.0.0 in c:\\users\\05amr\\anaconda\\lib\\site-packages (from scikit-learn->torch-geometric) (2.2.0)\n",
      "Requirement already satisfied: mpmath>=0.19 in c:\\users\\05amr\\anaconda\\lib\\site-packages (from sympy->torch) (1.3.0)\n",
      "Requirement already satisfied: colorama in c:\\users\\05amr\\anaconda\\lib\\site-packages (from tqdm->torch-geometric) (0.4.6)\n",
      "Downloading torchvision-0.16.1-cp311-cp311-win_amd64.whl (1.1 MB)\n",
      "   ---------------------------------------- 0.0/1.1 MB ? eta -:--:--\n",
      "   --- ------------------------------------ 0.1/1.1 MB 3.3 MB/s eta 0:00:01\n",
      "   ---------- ----------------------------- 0.3/1.1 MB 3.5 MB/s eta 0:00:01\n",
      "   --------------------- ------------------ 0.6/1.1 MB 4.9 MB/s eta 0:00:01\n",
      "   ---------------------------------- ----- 1.0/1.1 MB 6.2 MB/s eta 0:00:01\n",
      "   ---------------------------------------- 1.1/1.1 MB 5.6 MB/s eta 0:00:00\n",
      "Downloading torchaudio-2.1.1-cp311-cp311-win_amd64.whl (2.3 MB)\n",
      "   ---------------------------------------- 0.0/2.3 MB ? eta -:--:--\n",
      "   ---- ----------------------------------- 0.2/2.3 MB 5.0 MB/s eta 0:00:01\n",
      "   ---------- ----------------------------- 0.6/2.3 MB 6.1 MB/s eta 0:00:01\n",
      "   ----------------- ---------------------- 1.0/2.3 MB 7.1 MB/s eta 0:00:01\n",
      "   ----------------- ---------------------- 1.0/2.3 MB 7.3 MB/s eta 0:00:01\n",
      "   ----------------- ---------------------- 1.0/2.3 MB 7.3 MB/s eta 0:00:01\n",
      "   ----------------- ---------------------- 1.0/2.3 MB 7.3 MB/s eta 0:00:01\n",
      "   ----------------- ---------------------- 1.0/2.3 MB 7.3 MB/s eta 0:00:01\n",
      "   ----------------- ---------------------- 1.0/2.3 MB 7.3 MB/s eta 0:00:01\n",
      "   ----------------- ---------------------- 1.0/2.3 MB 7.3 MB/s eta 0:00:01\n",
      "   ----------------- ---------------------- 1.0/2.3 MB 7.3 MB/s eta 0:00:01\n",
      "   ----------------- ---------------------- 1.0/2.3 MB 7.3 MB/s eta 0:00:01\n",
      "   ----------------- ---------------------- 1.0/2.3 MB 7.3 MB/s eta 0:00:01\n",
      "   ----------------- ---------------------- 1.0/2.3 MB 7.3 MB/s eta 0:00:01\n",
      "   ----------------- ---------------------- 1.0/2.3 MB 7.3 MB/s eta 0:00:01\n",
      "   ----------------- ---------------------- 1.0/2.3 MB 7.3 MB/s eta 0:00:01\n",
      "   ----------------- ---------------------- 1.0/2.3 MB 7.3 MB/s eta 0:00:01\n",
      "   ----------------- ---------------------- 1.0/2.3 MB 7.3 MB/s eta 0:00:01\n",
      "   ----------------- ---------------------- 1.0/2.3 MB 7.3 MB/s eta 0:00:01\n",
      "   ----------------- ---------------------- 1.0/2.3 MB 7.3 MB/s eta 0:00:01\n",
      "   ----------------- ---------------------- 1.0/2.3 MB 7.3 MB/s eta 0:00:01\n",
      "   ------------------- -------------------- 1.1/2.3 MB 1.1 MB/s eta 0:00:02\n",
      "   ------------------------- -------------- 1.5/2.3 MB 1.4 MB/s eta 0:00:01\n",
      "   --------------------------------- ------ 1.9/2.3 MB 1.8 MB/s eta 0:00:01\n",
      "   ---------------------------------------  2.3/2.3 MB 2.0 MB/s eta 0:00:01\n",
      "   ---------------------------------------- 2.3/2.3 MB 2.0 MB/s eta 0:00:00\n",
      "Installing collected packages: torchvision, torchaudio\n",
      "Successfully installed torchaudio-2.1.1 torchvision-0.16.1\n",
      "Note: you may need to restart the kernel to use updated packages.\n"
     ]
    }
   ],
   "source": [
    "pip install --upgrade torch torchvision torchaudio torch-geometric"
   ]
  },
  {
   "cell_type": "code",
   "execution_count": 3,
   "id": "e5627c2d",
   "metadata": {},
   "outputs": [
    {
     "name": "stdout",
     "output_type": "stream",
     "text": [
      "Requirement already satisfied: torch_geometric in c:\\users\\05amr\\anaconda\\lib\\site-packages (2.4.0)\n",
      "Requirement already satisfied: tqdm in c:\\users\\05amr\\anaconda\\lib\\site-packages (from torch_geometric) (4.65.0)\n",
      "Requirement already satisfied: numpy in c:\\users\\05amr\\anaconda\\lib\\site-packages (from torch_geometric) (1.24.3)\n",
      "Requirement already satisfied: scipy in c:\\users\\05amr\\anaconda\\lib\\site-packages (from torch_geometric) (1.10.1)\n",
      "Requirement already satisfied: jinja2 in c:\\users\\05amr\\anaconda\\lib\\site-packages (from torch_geometric) (3.1.2)\n",
      "Requirement already satisfied: requests in c:\\users\\05amr\\anaconda\\lib\\site-packages (from torch_geometric) (2.31.0)\n",
      "Requirement already satisfied: pyparsing in c:\\users\\05amr\\anaconda\\lib\\site-packages (from torch_geometric) (3.0.9)\n",
      "Requirement already satisfied: scikit-learn in c:\\users\\05amr\\anaconda\\lib\\site-packages (from torch_geometric) (1.3.2)\n",
      "Requirement already satisfied: psutil>=5.8.0 in c:\\users\\05amr\\anaconda\\lib\\site-packages (from torch_geometric) (5.9.0)\n",
      "Requirement already satisfied: MarkupSafe>=2.0 in c:\\users\\05amr\\anaconda\\lib\\site-packages (from jinja2->torch_geometric) (2.1.1)\n",
      "Requirement already satisfied: charset-normalizer<4,>=2 in c:\\users\\05amr\\anaconda\\lib\\site-packages (from requests->torch_geometric) (2.0.4)\n",
      "Requirement already satisfied: idna<4,>=2.5 in c:\\users\\05amr\\anaconda\\lib\\site-packages (from requests->torch_geometric) (3.4)\n",
      "Requirement already satisfied: urllib3<3,>=1.21.1 in c:\\users\\05amr\\anaconda\\lib\\site-packages (from requests->torch_geometric) (1.26.16)\n",
      "Requirement already satisfied: certifi>=2017.4.17 in c:\\users\\05amr\\anaconda\\lib\\site-packages (from requests->torch_geometric) (2023.7.22)\n",
      "Requirement already satisfied: joblib>=1.1.1 in c:\\users\\05amr\\anaconda\\lib\\site-packages (from scikit-learn->torch_geometric) (1.2.0)\n",
      "Requirement already satisfied: threadpoolctl>=2.0.0 in c:\\users\\05amr\\anaconda\\lib\\site-packages (from scikit-learn->torch_geometric) (2.2.0)\n",
      "Requirement already satisfied: colorama in c:\\users\\05amr\\anaconda\\lib\\site-packages (from tqdm->torch_geometric) (0.4.6)\n",
      "Note: you may need to restart the kernel to use updated packages.\n"
     ]
    }
   ],
   "source": [
    "pip install torch_geometric"
   ]
  },
  {
   "cell_type": "code",
   "execution_count": 5,
   "id": "95e71234",
   "metadata": {},
   "outputs": [
    {
     "name": "stdout",
     "output_type": "stream",
     "text": [
      "Collecting torch-scatter\n",
      "  Downloading torch_scatter-2.1.2.tar.gz (108 kB)\n",
      "     ---------------------------------------- 0.0/108.0 kB ? eta -:--:--\n",
      "     ---------------------- ---------------- 61.4/108.0 kB 3.2 MB/s eta 0:00:01\n",
      "     -------------------------------------- 108.0/108.0 kB 2.1 MB/s eta 0:00:00\n",
      "  Preparing metadata (setup.py): started\n",
      "  Preparing metadata (setup.py): finished with status 'done'\n",
      "Building wheels for collected packages: torch-scatter\n",
      "  Building wheel for torch-scatter (setup.py): started\n",
      "  Building wheel for torch-scatter (setup.py): still running...\n",
      "  Building wheel for torch-scatter (setup.py): still running...\n",
      "  Building wheel for torch-scatter (setup.py): finished with status 'done'\n",
      "  Created wheel for torch-scatter: filename=torch_scatter-2.1.2-cp311-cp311-win_amd64.whl size=332371 sha256=7b01327b61df5d6fdc5b453e7629a899537c906ecae876815974917d78df6b3d\n",
      "  Stored in directory: c:\\users\\05amr\\appdata\\local\\pip\\cache\\wheels\\b8\\d4\\0e\\a80af2465354ea7355a2c153b11af2da739cfcf08b6c0b28e2\n",
      "Successfully built torch-scatter\n",
      "Installing collected packages: torch-scatter\n",
      "Successfully installed torch-scatter-2.1.2\n",
      "Note: you may need to restart the kernel to use updated packages.\n"
     ]
    }
   ],
   "source": [
    "pip install torch-scatter"
   ]
  },
  {
   "cell_type": "code",
   "execution_count": 1,
   "id": "84e60f22",
   "metadata": {},
   "outputs": [],
   "source": [
    "import torch_sparse"
   ]
  },
  {
   "cell_type": "code",
   "execution_count": null,
   "id": "7bc8bfbd",
   "metadata": {},
   "outputs": [
    {
     "name": "stdout",
     "output_type": "stream",
     "text": [
      "Epoch: 000, Loss: 11662.7070\n",
      "accuracy: 0.9555176257489202\n",
      "Epoch: 001, Loss: 6454.0015\n",
      "accuracy: 0.9700079162372481\n",
      "Epoch: 002, Loss: 4663.3213\n",
      "accuracy: 0.971046150018659\n",
      "Epoch: 003, Loss: 3441.4109\n",
      "accuracy: 0.97180280877069\n",
      "Epoch: 004, Loss: 2890.0322\n",
      "accuracy: 0.9721659389950664\n",
      "Epoch: 005, Loss: 2623.5172\n",
      "accuracy: 0.9722039702924955\n",
      "Epoch: 006, Loss: 2460.1582\n",
      "accuracy: 0.9725538596290416\n",
      "Epoch: 007, Loss: 2366.4748\n",
      "accuracy: 0.9727851535470896\n",
      "Epoch: 008, Loss: 2270.8517\n",
      "accuracy: 0.9726900273298852\n",
      "Epoch: 009, Loss: 2225.7713\n",
      "accuracy: 0.972798901005918\n",
      "Epoch: 010, Loss: 2171.5822\n",
      "accuracy: 0.9730330817416052\n",
      "Epoch: 011, Loss: 2150.8398\n",
      "accuracy: 0.9730969822438092\n",
      "Epoch: 012, Loss: 2085.7716\n",
      "accuracy: 0.9730979193932849\n",
      "Epoch: 013, Loss: 2041.1031\n",
      "accuracy: 0.9732607808190535\n",
      "Epoch: 014, Loss: 1993.9662\n",
      "accuracy: 0.9733210488308972\n",
      "Epoch: 015, Loss: 1975.8263\n",
      "accuracy: 0.9733633277923216\n"
     ]
    }
   ],
   "source": [
    "import torch\n",
    "from model import GAT\n",
    "from dataset import AMLtoGraph\n",
    "import torch_geometric.transforms as T\n",
    "from torch_geometric.loader import NeighborLoader\n",
    "\n",
    "device = torch.device('cuda' if torch.cuda.is_available() else 'cpu')\n",
    "dataset = AMLtoGraph(\"C:\\\\Users\\\\05amr\\\\Downloads\\\\AntiMoneyLaunderingDetectionWithGNN\\\\AntiMoneyLaunderingDetectionWithGNN-main\\\\data\")\n",
    "data = dataset[0]\n",
    "epoch = 100\n",
    "\n",
    "model = GAT(in_channels=data.num_features, hidden_channels=16, out_channels=1, heads=8)\n",
    "model = model.to(device)\n",
    "criterion = torch.nn.BCELoss()\n",
    "optimizer = torch.optim.SGD(model.parameters(), lr=0.0001)\n",
    "\n",
    "split = T.RandomNodeSplit(split='train_rest', num_val=0.1, num_test=0)\n",
    "data = split(data)\n",
    "\n",
    "train_loader = NeighborLoader(\n",
    "    data,\n",
    "    num_neighbors=[30] * 2,\n",
    "    batch_size=256,\n",
    "    input_nodes=data.train_mask,\n",
    ")\n",
    "\n",
    "test_loader = NeighborLoader(\n",
    "    data,\n",
    "    num_neighbors=[30] * 2,\n",
    "    batch_size=256,\n",
    "    input_nodes=data.val_mask,\n",
    ")\n",
    "\n",
    "for i in range(epoch):\n",
    "    total_loss = 0\n",
    "    model.train()\n",
    "    for data in train_loader:\n",
    "        optimizer.zero_grad()\n",
    "        data.to(device)\n",
    "        pred = model(data.x, data.edge_index, data.edge_attr)\n",
    "        ground_truth = data.y\n",
    "        loss = criterion(pred, ground_truth.unsqueeze(1))\n",
    "        loss.backward()\n",
    "        optimizer.step()\n",
    "        total_loss += float(loss)\n",
    "    if epoch%10 == 0:\n",
    "        print(f\"Epoch: {i:03d}, Loss: {total_loss:.4f}\")\n",
    "        model.eval()\n",
    "        acc = 0\n",
    "        total = 0\n",
    "        with torch.no_grad():\n",
    "            for test_data in test_loader:\n",
    "                test_data.to(device)\n",
    "                pred = model(test_data.x, test_data.edge_index, test_data.edge_attr)\n",
    "                ground_truth = test_data.y\n",
    "                correct = (pred == ground_truth.unsqueeze(1)).sum().item()\n",
    "                total += len(ground_truth)\n",
    "                acc += correct\n",
    "            acc = acc/total\n",
    "            print('accuracy:', acc)"
   ]
  },
  {
   "cell_type": "code",
   "execution_count": null,
   "id": "0f0fc94a",
   "metadata": {},
   "outputs": [],
   "source": []
  },
  {
   "cell_type": "code",
   "execution_count": null,
   "id": "175e08fc",
   "metadata": {},
   "outputs": [],
   "source": []
  }
 ],
 "metadata": {
  "kernelspec": {
   "display_name": "Python 3 (ipykernel)",
   "language": "python",
   "name": "python3"
  },
  "language_info": {
   "codemirror_mode": {
    "name": "ipython",
    "version": 3
   },
   "file_extension": ".py",
   "mimetype": "text/x-python",
   "name": "python",
   "nbconvert_exporter": "python",
   "pygments_lexer": "ipython3",
   "version": "3.11.4"
  }
 },
 "nbformat": 4,
 "nbformat_minor": 5
}
